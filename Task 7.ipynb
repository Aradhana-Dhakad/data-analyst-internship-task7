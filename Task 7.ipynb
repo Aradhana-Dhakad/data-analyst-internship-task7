{
 "cells": [
  {
   "cell_type": "markdown",
   "id": "a9af99dc",
   "metadata": {},
   "source": [
    "# Step 1"
   ]
  },
  {
   "cell_type": "code",
   "execution_count": 1,
   "id": "5ef4a8fe",
   "metadata": {},
   "outputs": [],
   "source": [
    "import sqlite3"
   ]
  },
  {
   "cell_type": "markdown",
   "id": "212471c6",
   "metadata": {},
   "source": [
    "# Create a connection to the database file (it will create one if it doesn't exist)"
   ]
  },
  {
   "cell_type": "code",
   "execution_count": 2,
   "id": "71e612d8",
   "metadata": {},
   "outputs": [],
   "source": [
    "conn = sqlite3.connect(\"sales_data.db\")\n"
   ]
  },
  {
   "cell_type": "code",
   "execution_count": 3,
   "id": "69150a27",
   "metadata": {},
   "outputs": [],
   "source": [
    "cursor = conn.cursor()"
   ]
  },
  {
   "cell_type": "markdown",
   "id": "42ac3470",
   "metadata": {},
   "source": [
    "# Create a 'sales' table"
   ]
  },
  {
   "cell_type": "code",
   "execution_count": 4,
   "id": "a3a2baf5",
   "metadata": {},
   "outputs": [
    {
     "data": {
      "text/plain": [
       "<sqlite3.Cursor at 0x191df84e740>"
      ]
     },
     "execution_count": 4,
     "metadata": {},
     "output_type": "execute_result"
    }
   ],
   "source": [
    "cursor.execute('''\n",
    "CREATE TABLE IF NOT EXISTS sales(\n",
    "id INTEGER PRIMARY KEY AUTOINCREMENT ,\n",
    "product TEXT ,\n",
    "quantity INTEGER ,\n",
    "price REAL\n",
    ")\n",
    "''')"
   ]
  },
  {
   "cell_type": "markdown",
   "id": "29935f34",
   "metadata": {},
   "source": [
    "# Insert sample data"
   ]
  },
  {
   "cell_type": "code",
   "execution_count": 5,
   "id": "0fe4b5cb",
   "metadata": {},
   "outputs": [],
   "source": [
    "sample_data = [ \n",
    "    (\"Apple\", 10, 20.0),\n",
    "(\"Banana\", 5, 5.0),\n",
    "(\"Orange\", 8, 15.0),\n",
    "(\"Apple\", 7, 20.0),\n",
    "(\"Banana\", 9, 5.0),\n",
    "(\"Cherry\", 6, 23.0),\n",
    "(\"Watermelon\", 3, 20.0),\n",
    "(\"Orange\", 20, 28.0),\n",
    "(\"Cherry\", 25, 18.0),\n",
    "(\"Apple\", 10, 30.0)\n",
    "]"
   ]
  },
  {
   "cell_type": "code",
   "execution_count": 6,
   "id": "75d4e845",
   "metadata": {},
   "outputs": [
    {
     "data": {
      "text/plain": [
       "<sqlite3.Cursor at 0x191df84e740>"
      ]
     },
     "execution_count": 6,
     "metadata": {},
     "output_type": "execute_result"
    }
   ],
   "source": [
    "cursor.executemany('INSERT INTO sales(product, quantity, price) VALUES(?, ?, ?)', sample_data)"
   ]
  },
  {
   "cell_type": "markdown",
   "id": "c92ccdca",
   "metadata": {},
   "source": [
    "# Commit changes and close connection"
   ]
  },
  {
   "cell_type": "code",
   "execution_count": 7,
   "id": "114e7a07",
   "metadata": {},
   "outputs": [],
   "source": [
    "conn.commit()\n"
   ]
  },
  {
   "cell_type": "code",
   "execution_count": 8,
   "id": "ae3049b3",
   "metadata": {},
   "outputs": [],
   "source": [
    "conn.close()"
   ]
  },
  {
   "cell_type": "code",
   "execution_count": 9,
   "id": "121aeedd",
   "metadata": {},
   "outputs": [
    {
     "name": "stdout",
     "output_type": "stream",
     "text": [
      "Step 1 Completed: Database & Table Created with Sample data\n"
     ]
    }
   ],
   "source": [
    "print(\"Step 1 Completed: Database & Table Created with Sample data\")"
   ]
  },
  {
   "cell_type": "markdown",
   "id": "c33b5d49",
   "metadata": {},
   "source": [
    "# Step 2"
   ]
  },
  {
   "cell_type": "code",
   "execution_count": 10,
   "id": "64617c38",
   "metadata": {},
   "outputs": [],
   "source": [
    "import pandas as pd"
   ]
  },
  {
   "cell_type": "code",
   "execution_count": 11,
   "id": "34298b6f",
   "metadata": {},
   "outputs": [],
   "source": [
    "# Connect to the database\n",
    "conn = sqlite3.connect('sales_data.db')"
   ]
  },
  {
   "cell_type": "markdown",
   "id": "c6d60422",
   "metadata": {},
   "source": [
    "# SQL query to calculate total quantity and revenue"
   ]
  },
  {
   "cell_type": "code",
   "execution_count": 12,
   "id": "09752bd1",
   "metadata": {},
   "outputs": [],
   "source": [
    "query=\"\"\"\n",
    "SELECT product, SUM(quantity) AS total_qty,\n",
    "SUM(quantity*price) AS revenue\n",
    "FROM sales\n",
    "GROUP BY product;\n",
    "\"\"\""
   ]
  },
  {
   "cell_type": "markdown",
   "id": "273a29f9",
   "metadata": {},
   "source": [
    "# Execute query and load into pandas dataframe"
   ]
  },
  {
   "cell_type": "code",
   "execution_count": 13,
   "id": "56eadb4b",
   "metadata": {},
   "outputs": [],
   "source": [
    "df=pd.read_sql_query(query, conn)"
   ]
  },
  {
   "cell_type": "markdown",
   "id": "d193fb80",
   "metadata": {},
   "source": [
    "# Print the result"
   ]
  },
  {
   "cell_type": "code",
   "execution_count": 14,
   "id": "0c3d9105",
   "metadata": {},
   "outputs": [
    {
     "name": "stdout",
     "output_type": "stream",
     "text": [
      "      product  total_qty  revenue\n",
      "0       Apple        162   3840.0\n",
      "1      Banana         84    420.0\n",
      "2      Cherry        186   3528.0\n",
      "3      Orange        168   4080.0\n",
      "4  Watermelon         18    360.0\n"
     ]
    }
   ],
   "source": [
    "print(df)"
   ]
  },
  {
   "cell_type": "markdown",
   "id": "9403dc4c",
   "metadata": {},
   "source": [
    "# Close the connection"
   ]
  },
  {
   "cell_type": "code",
   "execution_count": 15,
   "id": "a6cbd594",
   "metadata": {},
   "outputs": [],
   "source": [
    "conn.close()"
   ]
  },
  {
   "cell_type": "markdown",
   "id": "1d58afd4",
   "metadata": {},
   "source": [
    "# Step 3 Plot Bar Chart"
   ]
  },
  {
   "cell_type": "code",
   "execution_count": 16,
   "id": "97e9d599",
   "metadata": {},
   "outputs": [],
   "source": [
    "import matplotlib.pyplot as plt"
   ]
  },
  {
   "cell_type": "markdown",
   "id": "fba046f8",
   "metadata": {},
   "source": [
    "# Plot a bar chart for revenue by Product"
   ]
  },
  {
   "cell_type": "code",
   "execution_count": 17,
   "id": "347cfd50",
   "metadata": {},
   "outputs": [
    {
     "data": {
      "image/png": "[encoded data removed]",
      "text/plain": [
       "<Figure size 640x480 with 1 Axes>"
      ]
     },
     "metadata": {},
     "output_type": "display_data"
    }
   ],
   "source": [
    "df.plot(kind='bar', x='product', y='revenue', color='purple', legend=False)\n",
    "\n",
    "# Add Titles and labels\n",
    "plt.title(\"Total Revenue by Product\")\n",
    "plt.xlabel(\"Product\")\n",
    "plt.ylabel(\"Revenue\")\n",
    "\n",
    "#Show the chart\n",
    "plt.tight_layout()\n",
    "plt.show()"
   ]
  }
 ],
 "metadata": {
  "kernelspec": {
   "display_name": "Python 3 (ipykernel)",
   "language": "python",
   "name": "python3"
  },
  "language_info": {
   "codemirror_mode": {
    "name": "ipython",
    "version": 3
   },
   "file_extension": ".py",
   "mimetype": "text/x-python",
   "name": "python",
   "nbconvert_exporter": "python",
   "pygments_lexer": "ipython3",
   "version": "3.10.9"
  }
 },
 "nbformat": 4,
 "nbformat_minor": 5
}
